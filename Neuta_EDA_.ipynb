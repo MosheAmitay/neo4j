{
 "cells": [
  {
   "cell_type": "code",
   "execution_count": 1,
   "metadata": {},
   "outputs": [
    {
     "name": "stdout",
     "output_type": "stream",
     "text": [
      "Collecting py2neo\n",
      "  Downloading py2neo-2021.2.3-py2.py3-none-any.whl (177 kB)\n",
      "Requirement already satisfied: six>=1.15.0 in c:\\users\\mosh9\\anaconda3\\envs\\fastai\\lib\\site-packages (from py2neo) (1.15.0)\n",
      "Requirement already satisfied: urllib3 in c:\\users\\mosh9\\anaconda3\\envs\\fastai\\lib\\site-packages (from py2neo) (1.25.11)\n",
      "Requirement already satisfied: certifi in c:\\users\\mosh9\\anaconda3\\envs\\fastai\\lib\\site-packages (from py2neo) (2020.12.5)\n",
      "Requirement already satisfied: packaging in c:\\users\\mosh9\\anaconda3\\envs\\fastai\\lib\\site-packages (from py2neo) (20.7)\n",
      "Requirement already satisfied: pygments>=2.0.0 in c:\\users\\mosh9\\anaconda3\\envs\\fastai\\lib\\site-packages (from py2neo) (2.7.3)\n",
      "Collecting interchange~=2021.0.4\n",
      "  Downloading interchange-2021.0.4-py2.py3-none-any.whl (28 kB)\n",
      "Requirement already satisfied: pytz in c:\\users\\mosh9\\anaconda3\\envs\\fastai\\lib\\site-packages (from interchange~=2021.0.4->py2neo) (2020.4)\n",
      "Requirement already satisfied: six>=1.15.0 in c:\\users\\mosh9\\anaconda3\\envs\\fastai\\lib\\site-packages (from py2neo) (1.15.0)\n",
      "Collecting monotonic\n",
      "  Downloading monotonic-1.6-py2.py3-none-any.whl (8.2 kB)\n",
      "Requirement already satisfied: pyparsing>=2.0.2 in c:\\users\\mosh9\\anaconda3\\envs\\fastai\\lib\\site-packages (from packaging->py2neo) (2.4.7)\n",
      "Collecting pansi>=2020.7.3\n",
      "  Downloading pansi-2020.7.3-py2.py3-none-any.whl (10 kB)\n",
      "Requirement already satisfied: six>=1.15.0 in c:\\users\\mosh9\\anaconda3\\envs\\fastai\\lib\\site-packages (from py2neo) (1.15.0)\n",
      "Installing collected packages: pansi, monotonic, interchange, py2neo\n",
      "Successfully installed interchange-2021.0.4 monotonic-1.6 pansi-2020.7.3 py2neo-2021.2.3\n"
     ]
    }
   ],
   "source": [
    "!pip install py2neo"
   ]
  },
  {
   "cell_type": "code",
   "execution_count": null,
   "metadata": {},
   "outputs": [],
   "source": [
    "# unit test \n",
    "# 1. Pick lets say 100 proteins and check if the interact with the same proteins as HetNet.\n",
    "# 2. Comapare top 20 to top 20 of Hetnet\n",
    "# 3. Compare mean and median of all the following queries."
   ]
  },
  {
   "cell_type": "code",
   "execution_count": 2,
   "metadata": {},
   "outputs": [],
   "source": [
    "from py2neo import Graph\n",
    "graph = Graph(\"\", auth=(\"\", \"\"),name=\"development\")"
   ]
  },
  {
   "cell_type": "code",
   "execution_count": 24,
   "metadata": {},
   "outputs": [],
   "source": [
    "exploratory_query = \"\"\"\n",
    "MATCH (p1:Protein)-[:INTERACT_WITH]->(p2:Protein)\n",
    "RETURN id(p1) AS id,p1.Name AS name, COUNT(p2.Name) AS numOfInteraction \n",
    "ORDER BY numOfInteraction \n",
    "\"\"\"\n",
    "df = graph.run(exploratory_query).to_data_frame()"
   ]
  },
  {
   "cell_type": "code",
   "execution_count": 27,
   "metadata": {},
   "outputs": [
    {
     "data": {
      "text/html": [
       "<div>\n",
       "<style scoped>\n",
       "    .dataframe tbody tr th:only-of-type {\n",
       "        vertical-align: middle;\n",
       "    }\n",
       "\n",
       "    .dataframe tbody tr th {\n",
       "        vertical-align: top;\n",
       "    }\n",
       "\n",
       "    .dataframe thead th {\n",
       "        text-align: right;\n",
       "    }\n",
       "</style>\n",
       "<table border=\"1\" class=\"dataframe\">\n",
       "  <thead>\n",
       "    <tr style=\"text-align: right;\">\n",
       "      <th></th>\n",
       "      <th>id</th>\n",
       "      <th>numOfInteraction</th>\n",
       "    </tr>\n",
       "  </thead>\n",
       "  <tbody>\n",
       "    <tr>\n",
       "      <th>count</th>\n",
       "      <td>1.564700e+04</td>\n",
       "      <td>15647.000000</td>\n",
       "    </tr>\n",
       "    <tr>\n",
       "      <th>mean</th>\n",
       "      <td>1.707232e+06</td>\n",
       "      <td>43.293858</td>\n",
       "    </tr>\n",
       "    <tr>\n",
       "      <th>std</th>\n",
       "      <td>1.872584e+05</td>\n",
       "      <td>104.025974</td>\n",
       "    </tr>\n",
       "    <tr>\n",
       "      <th>min</th>\n",
       "      <td>1.189868e+06</td>\n",
       "      <td>1.000000</td>\n",
       "    </tr>\n",
       "    <tr>\n",
       "      <th>25%</th>\n",
       "      <td>1.795278e+06</td>\n",
       "      <td>5.000000</td>\n",
       "    </tr>\n",
       "    <tr>\n",
       "      <th>50%</th>\n",
       "      <td>1.800431e+06</td>\n",
       "      <td>15.000000</td>\n",
       "    </tr>\n",
       "    <tr>\n",
       "      <th>75%</th>\n",
       "      <td>1.805464e+06</td>\n",
       "      <td>40.000000</td>\n",
       "    </tr>\n",
       "    <tr>\n",
       "      <th>max</th>\n",
       "      <td>1.810551e+06</td>\n",
       "      <td>2937.000000</td>\n",
       "    </tr>\n",
       "  </tbody>\n",
       "</table>\n",
       "</div>"
      ],
      "text/plain": [
       "                 id  numOfInteraction\n",
       "count  1.564700e+04      15647.000000\n",
       "mean   1.707232e+06         43.293858\n",
       "std    1.872584e+05        104.025974\n",
       "min    1.189868e+06          1.000000\n",
       "25%    1.795278e+06          5.000000\n",
       "50%    1.800431e+06         15.000000\n",
       "75%    1.805464e+06         40.000000\n",
       "max    1.810551e+06       2937.000000"
      ]
     },
     "execution_count": 27,
     "metadata": {},
     "output_type": "execute_result"
    }
   ],
   "source": [
    "df.describe()"
   ]
  },
  {
   "cell_type": "code",
   "execution_count": 38,
   "metadata": {},
   "outputs": [
    {
     "data": {
      "image/png": "[encoded data removed]",
      "text/plain": [
       "<Figure size 576x720 with 1 Axes>"
      ]
     },
     "metadata": {
      "needs_background": "light"
     },
     "output_type": "display_data"
    }
   ],
   "source": [
    "\n",
    "df.numOfInteraction.hist(bins=125, grid=False, figsize=(8,10) )\n",
    "df = df.loc[(df[\"numOfInteraction\"]>0) &  (df[\"numOfInteraction\"]<60)]"
   ]
  },
  {
   "cell_type": "code",
   "execution_count": 39,
   "metadata": {},
   "outputs": [
    {
     "data": {
      "text/plain": [
       "<AxesSubplot:>"
      ]
     },
     "execution_count": 39,
     "metadata": {},
     "output_type": "execute_result"
    },
    {
     "data": {
      "image/png": "[encoded data removed]",
      "text/plain": [
       "<Figure size 576x720 with 1 Axes>"
      ]
     },
     "metadata": {
      "needs_background": "light"
     },
     "output_type": "display_data"
    }
   ],
   "source": [
    "df.numOfInteraction.hist(bins=125, grid=False, figsize=(8,10) )"
   ]
  },
  {
   "cell_type": "code",
   "execution_count": 18,
   "metadata": {},
   "outputs": [
    {
     "data": {
      "text/plain": [
       "<AxesSubplot:>"
      ]
     },
     "execution_count": 18,
     "metadata": {},
     "output_type": "execute_result"
    },
    {
     "data": {
      "image/png": "[encoded data removed]",
      "text/plain": [
       "<Figure size 576x720 with 1 Axes>"
      ]
     },
     "metadata": {
      "needs_background": "light"
     },
     "output_type": "display_data"
    }
   ],
   "source": [
    "df.boxplot(column=['numOfInteraction'] , figsize=(8,10) )"
   ]
  },
  {
   "cell_type": "code",
   "execution_count": 22,
   "metadata": {},
   "outputs": [],
   "source": [
    "exploratory_query = \"\"\"\n",
    "MATCH (p2:Protein)-[:INVOLVED_IN]->(g:GO)\n",
    "RETURN g.GO_name AS name, COUNT(p2) AS numOfInteraction \n",
    "ORDER BY numOfInteraction DESC \n",
    "\n",
    "\"\"\"\n",
    "df = graph.run(exploratory_query).to_data_frame()"
   ]
  },
  {
   "cell_type": "code",
   "execution_count": 23,
   "metadata": {},
   "outputs": [
    {
     "data": {
      "text/plain": [
       "<AxesSubplot:>"
      ]
     },
     "execution_count": 23,
     "metadata": {},
     "output_type": "execute_result"
    },
    {
     "data": {
      "image/png": "[encoded data removed]",
      "text/plain": [
       "<Figure size 576x720 with 1 Axes>"
      ]
     },
     "metadata": {
      "needs_background": "light"
     },
     "output_type": "display_data"
    }
   ],
   "source": [
    "df.numOfInteraction.hist(bins=225, grid=False, figsize=(8,10) )"
   ]
  },
  {
   "cell_type": "code",
   "execution_count": null,
   "metadata": {},
   "outputs": [],
   "source": []
  },
  {
   "cell_type": "code",
   "execution_count": 41,
   "metadata": {},
   "outputs": [
    {
     "data": {
      "text/html": [
       "<div>\n",
       "<style scoped>\n",
       "    .dataframe tbody tr th:only-of-type {\n",
       "        vertical-align: middle;\n",
       "    }\n",
       "\n",
       "    .dataframe tbody tr th {\n",
       "        vertical-align: top;\n",
       "    }\n",
       "\n",
       "    .dataframe thead th {\n",
       "        text-align: right;\n",
       "    }\n",
       "</style>\n",
       "<table border=\"1\" class=\"dataframe\">\n",
       "  <thead>\n",
       "    <tr style=\"text-align: right;\">\n",
       "      <th></th>\n",
       "      <th>id</th>\n",
       "      <th>name</th>\n",
       "      <th>numOfInteraction</th>\n",
       "    </tr>\n",
       "  </thead>\n",
       "  <tbody>\n",
       "    <tr>\n",
       "      <th>0</th>\n",
       "      <td>1214602</td>\n",
       "      <td>Abnormality of the lens</td>\n",
       "      <td>1</td>\n",
       "    </tr>\n",
       "    <tr>\n",
       "      <th>1</th>\n",
       "      <td>1215227</td>\n",
       "      <td>Kernicterus</td>\n",
       "      <td>1</td>\n",
       "    </tr>\n",
       "    <tr>\n",
       "      <th>2</th>\n",
       "      <td>1215685</td>\n",
       "      <td>Morphological central nervous system abnormality</td>\n",
       "      <td>1</td>\n",
       "    </tr>\n",
       "    <tr>\n",
       "      <th>3</th>\n",
       "      <td>1215888</td>\n",
       "      <td>Horner syndrome</td>\n",
       "      <td>1</td>\n",
       "    </tr>\n",
       "    <tr>\n",
       "      <th>4</th>\n",
       "      <td>1216122</td>\n",
       "      <td>Type IV atherosclerotic lesion</td>\n",
       "      <td>1</td>\n",
       "    </tr>\n",
       "    <tr>\n",
       "      <th>...</th>\n",
       "      <td>...</td>\n",
       "      <td>...</td>\n",
       "      <td>...</td>\n",
       "    </tr>\n",
       "    <tr>\n",
       "      <th>1514</th>\n",
       "      <td>1499623</td>\n",
       "      <td>Nystagmus</td>\n",
       "      <td>887</td>\n",
       "    </tr>\n",
       "    <tr>\n",
       "      <th>1515</th>\n",
       "      <td>1499346</td>\n",
       "      <td>Scoliosis</td>\n",
       "      <td>906</td>\n",
       "    </tr>\n",
       "    <tr>\n",
       "      <th>1516</th>\n",
       "      <td>1495617</td>\n",
       "      <td>Microcephaly</td>\n",
       "      <td>1133</td>\n",
       "    </tr>\n",
       "    <tr>\n",
       "      <th>1517</th>\n",
       "      <td>1215160</td>\n",
       "      <td>Intellectual disability</td>\n",
       "      <td>1416</td>\n",
       "    </tr>\n",
       "    <tr>\n",
       "      <th>1518</th>\n",
       "      <td>1215161</td>\n",
       "      <td>Seizure</td>\n",
       "      <td>1458</td>\n",
       "    </tr>\n",
       "  </tbody>\n",
       "</table>\n",
       "<p>1519 rows × 3 columns</p>\n",
       "</div>"
      ],
      "text/plain": [
       "           id                                              name  \\\n",
       "0     1214602                           Abnormality of the lens   \n",
       "1     1215227                                       Kernicterus   \n",
       "2     1215685  Morphological central nervous system abnormality   \n",
       "3     1215888                                   Horner syndrome   \n",
       "4     1216122                    Type IV atherosclerotic lesion   \n",
       "...       ...                                               ...   \n",
       "1514  1499623                                         Nystagmus   \n",
       "1515  1499346                                         Scoliosis   \n",
       "1516  1495617                                      Microcephaly   \n",
       "1517  1215160                           Intellectual disability   \n",
       "1518  1215161                                           Seizure   \n",
       "\n",
       "      numOfInteraction  \n",
       "0                    1  \n",
       "1                    1  \n",
       "2                    1  \n",
       "3                    1  \n",
       "4                    1  \n",
       "...                ...  \n",
       "1514               887  \n",
       "1515               906  \n",
       "1516              1133  \n",
       "1517              1416  \n",
       "1518              1458  \n",
       "\n",
       "[1519 rows x 3 columns]"
      ]
     },
     "execution_count": 41,
     "metadata": {},
     "output_type": "execute_result"
    }
   ],
   "source": [
    "exploratory_query = \"\"\"\n",
    "MATCH (g:Gene)-[:RELATED_TO]->(d:Disease)\n",
    "RETURN id(d) AS id,d.HP_name AS name, COUNT(g) AS numOfInteraction \n",
    "ORDER BY numOfInteraction \n",
    "\"\"\"\n",
    "df = graph.run(exploratory_query).to_data_frame()\n",
    "df"
   ]
  },
  {
   "cell_type": "code",
   "execution_count": 43,
   "metadata": {},
   "outputs": [
    {
     "data": {
      "text/plain": [
       "count    1519.000000\n",
       "mean       40.709677\n",
       "std        99.647584\n",
       "min         1.000000\n",
       "25%         4.000000\n",
       "50%        12.000000\n",
       "75%        35.000000\n",
       "max      1458.000000\n",
       "Name: numOfInteraction, dtype: float64"
      ]
     },
     "execution_count": 43,
     "metadata": {},
     "output_type": "execute_result"
    },
    {
     "data": {
      "image/png": "[encoded data removed]",
      "text/plain": [
       "<Figure size 576x720 with 1 Axes>"
      ]
     },
     "metadata": {
      "needs_background": "light"
     },
     "output_type": "display_data"
    }
   ],
   "source": [
    "df.numOfInteraction.hist(bins=225, grid=False, figsize=(8,10) )\n",
    "df.numOfInteraction.describe()"
   ]
  },
  {
   "cell_type": "code",
   "execution_count": 48,
   "metadata": {},
   "outputs": [
    {
     "data": {
      "text/html": [
       "<div>\n",
       "<style scoped>\n",
       "    .dataframe tbody tr th:only-of-type {\n",
       "        vertical-align: middle;\n",
       "    }\n",
       "\n",
       "    .dataframe tbody tr th {\n",
       "        vertical-align: top;\n",
       "    }\n",
       "\n",
       "    .dataframe thead th {\n",
       "        text-align: right;\n",
       "    }\n",
       "</style>\n",
       "<table border=\"1\" class=\"dataframe\">\n",
       "  <thead>\n",
       "    <tr style=\"text-align: right;\">\n",
       "      <th></th>\n",
       "      <th>id</th>\n",
       "      <th>name</th>\n",
       "      <th>numOfInteraction</th>\n",
       "    </tr>\n",
       "  </thead>\n",
       "  <tbody>\n",
       "    <tr>\n",
       "      <th>0</th>\n",
       "      <td>1214237</td>\n",
       "      <td>Abnormality of male external genitalia</td>\n",
       "      <td>1</td>\n",
       "    </tr>\n",
       "    <tr>\n",
       "      <th>1</th>\n",
       "      <td>1214282</td>\n",
       "      <td>Abnormality of reproductive system physiology</td>\n",
       "      <td>1</td>\n",
       "    </tr>\n",
       "    <tr>\n",
       "      <th>2</th>\n",
       "      <td>1214340</td>\n",
       "      <td>Abnormality of head or neck</td>\n",
       "      <td>1</td>\n",
       "    </tr>\n",
       "    <tr>\n",
       "      <th>3</th>\n",
       "      <td>1214361</td>\n",
       "      <td>Abnormality of lower lip</td>\n",
       "      <td>1</td>\n",
       "    </tr>\n",
       "    <tr>\n",
       "      <th>4</th>\n",
       "      <td>1214375</td>\n",
       "      <td>Abnormal parotid gland morphology</td>\n",
       "      <td>1</td>\n",
       "    </tr>\n",
       "    <tr>\n",
       "      <th>...</th>\n",
       "      <td>...</td>\n",
       "      <td>...</td>\n",
       "      <td>...</td>\n",
       "    </tr>\n",
       "    <tr>\n",
       "      <th>8797</th>\n",
       "      <td>1215160</td>\n",
       "      <td>Intellectual disability</td>\n",
       "      <td>1416</td>\n",
       "    </tr>\n",
       "    <tr>\n",
       "      <th>8798</th>\n",
       "      <td>1215161</td>\n",
       "      <td>Seizure</td>\n",
       "      <td>1458</td>\n",
       "    </tr>\n",
       "    <tr>\n",
       "      <th>8799</th>\n",
       "      <td>1215171</td>\n",
       "      <td>Global developmental delay</td>\n",
       "      <td>1564</td>\n",
       "    </tr>\n",
       "    <tr>\n",
       "      <th>8800</th>\n",
       "      <td>1214212</td>\n",
       "      <td>Autosomal dominant inheritance</td>\n",
       "      <td>1813</td>\n",
       "    </tr>\n",
       "    <tr>\n",
       "      <th>8801</th>\n",
       "      <td>1214213</td>\n",
       "      <td>Autosomal recessive inheritance</td>\n",
       "      <td>2752</td>\n",
       "    </tr>\n",
       "  </tbody>\n",
       "</table>\n",
       "<p>8802 rows × 3 columns</p>\n",
       "</div>"
      ],
      "text/plain": [
       "           id                                           name  numOfInteraction\n",
       "0     1214237         Abnormality of male external genitalia                 1\n",
       "1     1214282  Abnormality of reproductive system physiology                 1\n",
       "2     1214340                    Abnormality of head or neck                 1\n",
       "3     1214361                       Abnormality of lower lip                 1\n",
       "4     1214375              Abnormal parotid gland morphology                 1\n",
       "...       ...                                            ...               ...\n",
       "8797  1215160                        Intellectual disability              1416\n",
       "8798  1215161                                        Seizure              1458\n",
       "8799  1215171                     Global developmental delay              1564\n",
       "8800  1214212                 Autosomal dominant inheritance              1813\n",
       "8801  1214213                Autosomal recessive inheritance              2752\n",
       "\n",
       "[8802 rows x 3 columns]"
      ]
     },
     "execution_count": 48,
     "metadata": {},
     "output_type": "execute_result"
    }
   ],
   "source": [
    "exploratory_query = \"\"\"\n",
    "MATCH (p:Phenotype)<-[:RELATED_TO]-(g:Gene)\n",
    "RETURN id(p) AS id,p.HP_name AS name, COUNT(g) AS numOfInteraction \n",
    "ORDER BY numOfInteraction \n",
    "\"\"\"\n",
    "df = graph.run(exploratory_query).to_data_frame()\n",
    "df"
   ]
  },
  {
   "cell_type": "code",
   "execution_count": 49,
   "metadata": {},
   "outputs": [
    {
     "data": {
      "text/plain": [
       "count    8802.00000\n",
       "mean       23.14633\n",
       "std        75.02272\n",
       "min         1.00000\n",
       "25%         2.00000\n",
       "50%         5.00000\n",
       "75%        16.00000\n",
       "max      2752.00000\n",
       "Name: numOfInteraction, dtype: float64"
      ]
     },
     "execution_count": 49,
     "metadata": {},
     "output_type": "execute_result"
    },
    {
     "data": {
      "image/png": "[encoded data removed]",
      "text/plain": [
       "<Figure size 576x720 with 1 Axes>"
      ]
     },
     "metadata": {
      "needs_background": "light"
     },
     "output_type": "display_data"
    }
   ],
   "source": [
    "df.numOfInteraction.hist(bins=225, grid=False, figsize=(8,10) )\n",
    "df.numOfInteraction.describe()"
   ]
  }
 ],
 "metadata": {
  "kernelspec": {
   "display_name": "Python 3",
   "language": "python",
   "name": "python3"
  },
  "language_info": {
   "codemirror_mode": {
    "name": "ipython",
    "version": 3
   },
   "file_extension": ".py",
   "mimetype": "text/x-python",
   "name": "python",
   "nbconvert_exporter": "python",
   "pygments_lexer": "ipython3",
   "version": "3.7.9"
  }
 },
 "nbformat": 4,
 "nbformat_minor": 4
}
